{
 "cells": [
  {
   "cell_type": "code",
   "execution_count": 1,
   "id": "adecf34e",
   "metadata": {},
   "outputs": [],
   "source": [
    "#DATA EXPLORATION\n",
    "# IMPORTING LIBRARIES FOR DATA ANALYSIS\n",
    "import pandas as pd\n",
    "import numpy as np\n",
    "import matplotlib.pyplot as plt\n",
    "import seaborn as sns\n",
    "#IGNORE HARMLESS WARNINGS\n",
    "import warnings\n",
    "warnings.filterwarnings(\"ignore\")\n",
    "#SET TO DISPALY ALL COLUMNS IN THE DATA SET\n",
    "pd.set_option(\"display.max_columns\",None)"
   ]
  },
  {
   "cell_type": "code",
   "execution_count": 2,
   "id": "f7b4af8a",
   "metadata": {},
   "outputs": [
    {
     "data": {
      "text/html": [
       "<div>\n",
       "<style scoped>\n",
       "    .dataframe tbody tr th:only-of-type {\n",
       "        vertical-align: middle;\n",
       "    }\n",
       "\n",
       "    .dataframe tbody tr th {\n",
       "        vertical-align: top;\n",
       "    }\n",
       "\n",
       "    .dataframe thead th {\n",
       "        text-align: right;\n",
       "    }\n",
       "</style>\n",
       "<table border=\"1\" class=\"dataframe\">\n",
       "  <thead>\n",
       "    <tr style=\"text-align: right;\">\n",
       "      <th></th>\n",
       "      <th>Hours</th>\n",
       "      <th>Scores</th>\n",
       "    </tr>\n",
       "  </thead>\n",
       "  <tbody>\n",
       "    <tr>\n",
       "      <th>0</th>\n",
       "      <td>2.5</td>\n",
       "      <td>21</td>\n",
       "    </tr>\n",
       "    <tr>\n",
       "      <th>1</th>\n",
       "      <td>5.1</td>\n",
       "      <td>47</td>\n",
       "    </tr>\n",
       "    <tr>\n",
       "      <th>2</th>\n",
       "      <td>3.2</td>\n",
       "      <td>27</td>\n",
       "    </tr>\n",
       "    <tr>\n",
       "      <th>3</th>\n",
       "      <td>8.5</td>\n",
       "      <td>75</td>\n",
       "    </tr>\n",
       "    <tr>\n",
       "      <th>4</th>\n",
       "      <td>3.5</td>\n",
       "      <td>30</td>\n",
       "    </tr>\n",
       "    <tr>\n",
       "      <th>5</th>\n",
       "      <td>1.5</td>\n",
       "      <td>20</td>\n",
       "    </tr>\n",
       "    <tr>\n",
       "      <th>6</th>\n",
       "      <td>9.2</td>\n",
       "      <td>88</td>\n",
       "    </tr>\n",
       "    <tr>\n",
       "      <th>7</th>\n",
       "      <td>5.5</td>\n",
       "      <td>60</td>\n",
       "    </tr>\n",
       "    <tr>\n",
       "      <th>8</th>\n",
       "      <td>8.3</td>\n",
       "      <td>81</td>\n",
       "    </tr>\n",
       "    <tr>\n",
       "      <th>9</th>\n",
       "      <td>2.7</td>\n",
       "      <td>25</td>\n",
       "    </tr>\n",
       "    <tr>\n",
       "      <th>10</th>\n",
       "      <td>7.7</td>\n",
       "      <td>85</td>\n",
       "    </tr>\n",
       "    <tr>\n",
       "      <th>11</th>\n",
       "      <td>5.9</td>\n",
       "      <td>62</td>\n",
       "    </tr>\n",
       "    <tr>\n",
       "      <th>12</th>\n",
       "      <td>4.5</td>\n",
       "      <td>41</td>\n",
       "    </tr>\n",
       "    <tr>\n",
       "      <th>13</th>\n",
       "      <td>3.3</td>\n",
       "      <td>42</td>\n",
       "    </tr>\n",
       "    <tr>\n",
       "      <th>14</th>\n",
       "      <td>1.1</td>\n",
       "      <td>17</td>\n",
       "    </tr>\n",
       "    <tr>\n",
       "      <th>15</th>\n",
       "      <td>8.9</td>\n",
       "      <td>95</td>\n",
       "    </tr>\n",
       "    <tr>\n",
       "      <th>16</th>\n",
       "      <td>2.5</td>\n",
       "      <td>30</td>\n",
       "    </tr>\n",
       "    <tr>\n",
       "      <th>17</th>\n",
       "      <td>1.9</td>\n",
       "      <td>24</td>\n",
       "    </tr>\n",
       "    <tr>\n",
       "      <th>18</th>\n",
       "      <td>6.1</td>\n",
       "      <td>67</td>\n",
       "    </tr>\n",
       "    <tr>\n",
       "      <th>19</th>\n",
       "      <td>7.4</td>\n",
       "      <td>69</td>\n",
       "    </tr>\n",
       "    <tr>\n",
       "      <th>20</th>\n",
       "      <td>2.7</td>\n",
       "      <td>30</td>\n",
       "    </tr>\n",
       "    <tr>\n",
       "      <th>21</th>\n",
       "      <td>4.8</td>\n",
       "      <td>54</td>\n",
       "    </tr>\n",
       "    <tr>\n",
       "      <th>22</th>\n",
       "      <td>3.8</td>\n",
       "      <td>35</td>\n",
       "    </tr>\n",
       "    <tr>\n",
       "      <th>23</th>\n",
       "      <td>6.9</td>\n",
       "      <td>76</td>\n",
       "    </tr>\n",
       "    <tr>\n",
       "      <th>24</th>\n",
       "      <td>7.8</td>\n",
       "      <td>86</td>\n",
       "    </tr>\n",
       "  </tbody>\n",
       "</table>\n",
       "</div>"
      ],
      "text/plain": [
       "    Hours  Scores\n",
       "0     2.5      21\n",
       "1     5.1      47\n",
       "2     3.2      27\n",
       "3     8.5      75\n",
       "4     3.5      30\n",
       "5     1.5      20\n",
       "6     9.2      88\n",
       "7     5.5      60\n",
       "8     8.3      81\n",
       "9     2.7      25\n",
       "10    7.7      85\n",
       "11    5.9      62\n",
       "12    4.5      41\n",
       "13    3.3      42\n",
       "14    1.1      17\n",
       "15    8.9      95\n",
       "16    2.5      30\n",
       "17    1.9      24\n",
       "18    6.1      67\n",
       "19    7.4      69\n",
       "20    2.7      30\n",
       "21    4.8      54\n",
       "22    3.8      35\n",
       "23    6.9      76\n",
       "24    7.8      86"
      ]
     },
     "execution_count": 2,
     "metadata": {},
     "output_type": "execute_result"
    }
   ],
   "source": [
    "#LOADING THE DATA SET\n",
    "url=\"http://bit.ly/w-data\"\n",
    "sddata=pd.read_csv(url,header=0)\n",
    "#COPY THE BACK-UP FILES\n",
    "sddata_bk=sddata.copy()\n",
    "#DISPLAY THE DATA\n",
    "sddata"
   ]
  },
  {
   "cell_type": "code",
   "execution_count": 3,
   "id": "e7ac35ed",
   "metadata": {},
   "outputs": [
    {
     "data": {
      "text/html": [
       "<div>\n",
       "<style scoped>\n",
       "    .dataframe tbody tr th:only-of-type {\n",
       "        vertical-align: middle;\n",
       "    }\n",
       "\n",
       "    .dataframe tbody tr th {\n",
       "        vertical-align: top;\n",
       "    }\n",
       "\n",
       "    .dataframe thead th {\n",
       "        text-align: right;\n",
       "    }\n",
       "</style>\n",
       "<table border=\"1\" class=\"dataframe\">\n",
       "  <thead>\n",
       "    <tr style=\"text-align: right;\">\n",
       "      <th></th>\n",
       "      <th>Hours</th>\n",
       "      <th>Scores</th>\n",
       "    </tr>\n",
       "  </thead>\n",
       "  <tbody>\n",
       "    <tr>\n",
       "      <th>0</th>\n",
       "      <td>2.5</td>\n",
       "      <td>21</td>\n",
       "    </tr>\n",
       "    <tr>\n",
       "      <th>1</th>\n",
       "      <td>5.1</td>\n",
       "      <td>47</td>\n",
       "    </tr>\n",
       "    <tr>\n",
       "      <th>2</th>\n",
       "      <td>3.2</td>\n",
       "      <td>27</td>\n",
       "    </tr>\n",
       "    <tr>\n",
       "      <th>3</th>\n",
       "      <td>8.5</td>\n",
       "      <td>75</td>\n",
       "    </tr>\n",
       "    <tr>\n",
       "      <th>4</th>\n",
       "      <td>3.5</td>\n",
       "      <td>30</td>\n",
       "    </tr>\n",
       "  </tbody>\n",
       "</table>\n",
       "</div>"
      ],
      "text/plain": [
       "   Hours  Scores\n",
       "0    2.5      21\n",
       "1    5.1      47\n",
       "2    3.2      27\n",
       "3    8.5      75\n",
       "4    3.5      30"
      ]
     },
     "execution_count": 3,
     "metadata": {},
     "output_type": "execute_result"
    }
   ],
   "source": [
    "sddata.head()"
   ]
  },
  {
   "cell_type": "code",
   "execution_count": 4,
   "id": "f74f92b9",
   "metadata": {},
   "outputs": [
    {
     "name": "stdout",
     "output_type": "stream",
     "text": [
      "<class 'pandas.core.frame.DataFrame'>\n",
      "RangeIndex: 25 entries, 0 to 24\n",
      "Data columns (total 2 columns):\n",
      " #   Column  Non-Null Count  Dtype  \n",
      "---  ------  --------------  -----  \n",
      " 0   Hours   25 non-null     float64\n",
      " 1   Scores  25 non-null     int64  \n",
      "dtypes: float64(1), int64(1)\n",
      "memory usage: 528.0 bytes\n"
     ]
    }
   ],
   "source": [
    "\n",
    "#DISPLAY THE DATA SET INFORMATION\n",
    "sddata.info()"
   ]
  },
  {
   "cell_type": "code",
   "execution_count": 5,
   "id": "e21f0a65",
   "metadata": {},
   "outputs": [
    {
     "data": {
      "text/plain": [
       "(25, 2)"
      ]
     },
     "execution_count": 5,
     "metadata": {},
     "output_type": "execute_result"
    }
   ],
   "source": [
    "#DISPLAY THE TOTAL SHAPE THAT INCLUDES NO OF RECORDS AND ATTRIBUTES OF DATA SET\n",
    "sddata.shape"
   ]
  },
  {
   "cell_type": "code",
   "execution_count": 6,
   "id": "fd569f95",
   "metadata": {},
   "outputs": [
    {
     "data": {
      "text/plain": [
       "Hours     0\n",
       "Scores    0\n",
       "dtype: int64"
      ]
     },
     "execution_count": 6,
     "metadata": {},
     "output_type": "execute_result"
    }
   ],
   "source": [
    "#TO DISPLAY MISSING VALUES IN DATA SET\n",
    "sddata.isnull().sum()"
   ]
  },
  {
   "cell_type": "code",
   "execution_count": 7,
   "id": "4ae15fda",
   "metadata": {},
   "outputs": [
    {
     "data": {
      "text/html": [
       "<div>\n",
       "<style scoped>\n",
       "    .dataframe tbody tr th:only-of-type {\n",
       "        vertical-align: middle;\n",
       "    }\n",
       "\n",
       "    .dataframe tbody tr th {\n",
       "        vertical-align: top;\n",
       "    }\n",
       "\n",
       "    .dataframe thead th {\n",
       "        text-align: right;\n",
       "    }\n",
       "</style>\n",
       "<table border=\"1\" class=\"dataframe\">\n",
       "  <thead>\n",
       "    <tr style=\"text-align: right;\">\n",
       "      <th></th>\n",
       "      <th>Hours</th>\n",
       "      <th>Scores</th>\n",
       "    </tr>\n",
       "  </thead>\n",
       "  <tbody>\n",
       "  </tbody>\n",
       "</table>\n",
       "</div>"
      ],
      "text/plain": [
       "Empty DataFrame\n",
       "Columns: [Hours, Scores]\n",
       "Index: []"
      ]
     },
     "execution_count": 7,
     "metadata": {},
     "output_type": "execute_result"
    }
   ],
   "source": [
    "#4\n",
    "#IDENTIFY DUPLICATES IN DATA SET\n",
    "sddata_dup=sddata[sddata.duplicated(keep='last')]\n",
    "#DISPLAY DUPLICATE RECORDS\n",
    "sddata_dup"
   ]
  },
  {
   "cell_type": "code",
   "execution_count": 8,
   "id": "078e8388",
   "metadata": {},
   "outputs": [
    {
     "data": {
      "text/plain": [
       "False"
      ]
     },
     "execution_count": 8,
     "metadata": {},
     "output_type": "execute_result"
    }
   ],
   "source": [
    "#TO IDENTIFY DUPLICATES IN DATA SET\n",
    "sddata.duplicated().any()"
   ]
  },
  {
   "cell_type": "code",
   "execution_count": 9,
   "id": "b598d045",
   "metadata": {},
   "outputs": [
    {
     "data": {
      "text/plain": [
       "Hours     23\n",
       "Scores    23\n",
       "dtype: int64"
      ]
     },
     "execution_count": 9,
     "metadata": {},
     "output_type": "execute_result"
    }
   ],
   "source": [
    "sddata.nunique()"
   ]
  },
  {
   "cell_type": "code",
   "execution_count": 10,
   "id": "251a680b",
   "metadata": {},
   "outputs": [
    {
     "data": {
      "text/plain": [
       "<bound method IndexOpsMixin.value_counts of 0     2.5\n",
       "1     5.1\n",
       "2     3.2\n",
       "3     8.5\n",
       "4     3.5\n",
       "5     1.5\n",
       "6     9.2\n",
       "7     5.5\n",
       "8     8.3\n",
       "9     2.7\n",
       "10    7.7\n",
       "11    5.9\n",
       "12    4.5\n",
       "13    3.3\n",
       "14    1.1\n",
       "15    8.9\n",
       "16    2.5\n",
       "17    1.9\n",
       "18    6.1\n",
       "19    7.4\n",
       "20    2.7\n",
       "21    4.8\n",
       "22    3.8\n",
       "23    6.9\n",
       "24    7.8\n",
       "Name: Hours, dtype: float64>"
      ]
     },
     "execution_count": 10,
     "metadata": {},
     "output_type": "execute_result"
    }
   ],
   "source": [
    "sddata['Hours'].value_counts"
   ]
  },
  {
   "cell_type": "code",
   "execution_count": 11,
   "id": "b2f4c7b7",
   "metadata": {},
   "outputs": [
    {
     "data": {
      "text/plain": [
       "<bound method IndexOpsMixin.value_counts of 0     21\n",
       "1     47\n",
       "2     27\n",
       "3     75\n",
       "4     30\n",
       "5     20\n",
       "6     88\n",
       "7     60\n",
       "8     81\n",
       "9     25\n",
       "10    85\n",
       "11    62\n",
       "12    41\n",
       "13    42\n",
       "14    17\n",
       "15    95\n",
       "16    30\n",
       "17    24\n",
       "18    67\n",
       "19    69\n",
       "20    30\n",
       "21    54\n",
       "22    35\n",
       "23    76\n",
       "24    86\n",
       "Name: Scores, dtype: int64>"
      ]
     },
     "execution_count": 11,
     "metadata": {},
     "output_type": "execute_result"
    }
   ],
   "source": [
    "sddata['Scores'].value_counts"
   ]
  },
  {
   "cell_type": "code",
   "execution_count": 12,
   "id": "2c542ff7",
   "metadata": {},
   "outputs": [
    {
     "data": {
      "image/png": "[encoded data removed]",
      "text/plain": [
       "<Figure size 800x600 with 1 Axes>"
      ]
     },
     "metadata": {},
     "output_type": "display_data"
    }
   ],
   "source": [
    "import matplotlib.pyplot as plt\n",
    "\n",
    "# Sample data (replace with your dataset)\n",
    "study_hours = [2.5,5.1,3.2,8.5, 3.5, 1.5, 9.2, 5.5 ,8.3 ,2.7, 7.7, 5.9,4.5 ,3.3,1.1,8.9, 2.5,1.9,6.1,7.4,2.7,4.8,3.8,6.9,7.8]\n",
    "percentages = [21,47,27,75,30,20,88,60,81,25,85,62,41,42,17,95,30,24,67,69,30,54,35,76,86]\n",
    "\n",
    "# Create a scatter plot\n",
    "plt.figure(figsize=(8, 6))  # Set the figure size\n",
    "plt.scatter(study_hours, percentages, color='blue', label='Data Points')\n",
    "\n",
    "# Add labels and title\n",
    "plt.xlabel('Study Hours')\n",
    "plt.ylabel('Percentage')\n",
    "plt.title('Scatter Plot of Study Hours vs. Percentage')\n",
    "\n",
    "# Add grid lines (optional)\n",
    "plt.grid(True)\n",
    "\n",
    "# Show the legend (optional)\n",
    "plt.legend()\n",
    "\n",
    "# Display the plot\n",
    "plt.show()\n"
   ]
  },
  {
   "cell_type": "code",
   "execution_count": null,
   "id": "edc262fb",
   "metadata": {},
   "outputs": [],
   "source": []
  },
  {
   "cell_type": "code",
   "execution_count": 13,
   "id": "1b7d464c",
   "metadata": {},
   "outputs": [
    {
     "data": {
      "image/png": "[encoded data removed]",
      "text/plain": [
       "<Figure size 800x600 with 1 Axes>"
      ]
     },
     "metadata": {},
     "output_type": "display_data"
    }
   ],
   "source": [
    "import matplotlib.pyplot as plt\n",
    "import numpy as np\n",
    "\n",
    "# Sample data (replace with your data)\n",
    "study_hours = np.array([2.5,5.1,3.2,8.5, 3.5, 1.5, 9.2, 5.5 ,8.3 ,2.7, 7.7, 5.9,4.5 ,3.3,1.1,8.9, 2.5,1.9,6.1,7.4,2.7,4.8,3.8,6.9,7.8])\n",
    "scores = np.array([21,47,27,75,30,20,88,60,81,25,85,62,41,42,17,95,30,24,67,69,30,54,35,76,86])\n",
    "\n",
    "# Create a line plot\n",
    "plt.figure(figsize=(8, 6))  # Set the figure size\n",
    "plt.plot(study_hours, scores, marker='o', color='red', label='Scores')\n",
    "\n",
    "# Add labels and title\n",
    "plt.xlabel('Study Hours')\n",
    "plt.ylabel('Scores')\n",
    "plt.title('Study Hours vs. Scores')\n",
    "\n",
    "# Add grid lines (optional)\n",
    "plt.grid(True)\n",
    "\n",
    "# Show the legend (optional)\n",
    "plt.legend()\n",
    "\n",
    "# Display the plot\n",
    "plt.show()\n"
   ]
  },
  {
   "cell_type": "code",
   "execution_count": 14,
   "id": "740cf124",
   "metadata": {},
   "outputs": [],
   "source": [
    "#identify the independent and Target (dependent) variables\n",
    "IndepepVar=[]\n",
    "for col in sddata.columns:\n",
    "    if col!=\"Scores\":\n",
    "        IndepepVar.append(col)\n",
    "TargetVar=\"Scores\" \n",
    "x=sddata[IndepepVar]\n",
    "y=sddata[TargetVar]"
   ]
  },
  {
   "cell_type": "code",
   "execution_count": 15,
   "id": "4f4a4d44",
   "metadata": {},
   "outputs": [
    {
     "data": {
      "text/plain": [
       "((17, 1), (8, 1), (17,), (8,))"
      ]
     },
     "execution_count": 15,
     "metadata": {},
     "output_type": "execute_result"
    }
   ],
   "source": [
    "# Split the data into train and test (random sampling)\n",
    "\n",
    "from sklearn.model_selection import train_test_split \n",
    "\n",
    "x_train, x_test, y_train, y_test = train_test_split(x, y, test_size=0.3, random_state=42)\n",
    "\n",
    "# Display the shape for train & test data\n",
    "\n",
    "x_train.shape, x_test.shape, y_train.shape, y_test.shape\n"
   ]
  },
  {
   "cell_type": "code",
   "execution_count": 16,
   "id": "2a7ad99a",
   "metadata": {},
   "outputs": [
    {
     "name": "stdout",
     "output_type": "stream",
     "text": [
      "mean absalute error (MAE): 4.5\n",
      "mean squared error (MSE): 23.619\n",
      "root mean squared error(RMSA): 4.86\n",
      "R2_score: 0.948765\n",
      "mean absalute percentage error (MAPE): 12.161 %\n",
      "root mean squared log error(RMSLE) 1.581\n",
      "Mean Absolute Percentage Error (MAPE): 12.161 %\n",
      "Adj R Square:  0.946537\n"
     ]
    }
   ],
   "source": [
    "#regression algo\n",
    "from sklearn.linear_model import LinearRegression\n",
    "ModeIRGR=LinearRegression()\n",
    "ModeIRGR.fit(x_train,y_train)\n",
    "y_pred=ModeIRGR.predict(x_test) \n",
    "from sklearn import metrics\n",
    "print('mean absalute error (MAE):',round(metrics.mean_absolute_error(y_test,y_pred),3))\n",
    "print('mean squared error (MSE):',round(metrics.mean_squared_error(y_test,y_pred),3))\n",
    "print('root mean squared error(RMSA):',round(np.sqrt(metrics.mean_squared_error(y_test,y_pred)),3))\n",
    "print('R2_score:',round(metrics.r2_score(y_test,y_pred),6))\n",
    "print('mean absalute percentage error (MAPE):',round(metrics.mean_absolute_percentage_error(y_test,y_pred)*100,3),'%')\n",
    "print('root mean squared log error(RMSLE)',round(np.log(np.sqrt(metrics.mean_squared_error(y_test,y_pred))),3))\n",
    "# Define the function to calculate the MAPE - Mean Absolute Percentage Error\n",
    "\n",
    "def MAPE (y_test, y_pred): \n",
    "    y_test, y_pred = np.array(y_test), np.array(y_pred)\n",
    "    return np.mean(np.abs((y_test - y_pred) / y_test)) * 100\n",
    "\n",
    "# Evaluation of MAPE \n",
    "\n",
    "result = MAPE(y_test, y_pred)\n",
    "print('Mean Absolute Percentage Error (MAPE):', round(result, 3), '%')\n",
    "# Calculate Adjusted R squared values \n",
    "\n",
    "r_squared = round(metrics.r2_score(y_test, y_pred),6)\n",
    "adjusted_r_squared = round(1 - (1-r_squared)*(len(y)-1)/(len(y)-x.shape[1]-1),6)\n",
    "print('Adj R Square: ', adjusted_r_squared)"
   ]
  },
  {
   "cell_type": "code",
   "execution_count": 17,
   "id": "83c50d80",
   "metadata": {},
   "outputs": [
    {
     "data": {
      "text/html": [
       "<div>\n",
       "<style scoped>\n",
       "    .dataframe tbody tr th:only-of-type {\n",
       "        vertical-align: middle;\n",
       "    }\n",
       "\n",
       "    .dataframe tbody tr th {\n",
       "        vertical-align: top;\n",
       "    }\n",
       "\n",
       "    .dataframe thead th {\n",
       "        text-align: right;\n",
       "    }\n",
       "</style>\n",
       "<table border=\"1\" class=\"dataframe\">\n",
       "  <thead>\n",
       "    <tr style=\"text-align: right;\">\n",
       "      <th></th>\n",
       "      <th>Hours</th>\n",
       "      <th>Scores</th>\n",
       "      <th>Scores_A</th>\n",
       "      <th>Scores_P</th>\n",
       "    </tr>\n",
       "  </thead>\n",
       "  <tbody>\n",
       "    <tr>\n",
       "      <th>8</th>\n",
       "      <td>8.3</td>\n",
       "      <td>81</td>\n",
       "      <td>81</td>\n",
       "      <td>83.391686</td>\n",
       "    </tr>\n",
       "    <tr>\n",
       "      <th>13</th>\n",
       "      <td>3.3</td>\n",
       "      <td>42</td>\n",
       "      <td>42</td>\n",
       "      <td>34.838982</td>\n",
       "    </tr>\n",
       "    <tr>\n",
       "      <th>9</th>\n",
       "      <td>2.7</td>\n",
       "      <td>25</td>\n",
       "      <td>25</td>\n",
       "      <td>29.012657</td>\n",
       "    </tr>\n",
       "    <tr>\n",
       "      <th>16</th>\n",
       "      <td>2.5</td>\n",
       "      <td>30</td>\n",
       "      <td>30</td>\n",
       "      <td>27.070549</td>\n",
       "    </tr>\n",
       "    <tr>\n",
       "      <th>0</th>\n",
       "      <td>2.5</td>\n",
       "      <td>21</td>\n",
       "      <td>21</td>\n",
       "      <td>27.070549</td>\n",
       "    </tr>\n",
       "  </tbody>\n",
       "</table>\n",
       "</div>"
      ],
      "text/plain": [
       "    Hours  Scores  Scores_A   Scores_P\n",
       "8     8.3      81        81  83.391686\n",
       "13    3.3      42        42  34.838982\n",
       "9     2.7      25        25  29.012657\n",
       "16    2.5      30        30  27.070549\n",
       "0     2.5      21        21  27.070549"
      ]
     },
     "execution_count": 17,
     "metadata": {},
     "output_type": "execute_result"
    }
   ],
   "source": [
    "Results = pd.DataFrame({'Scores_A':y_test, 'Scores_P':y_pred})\n",
    "\n",
    "# Merge two Dataframes on index of both the dataframes\n",
    "\n",
    "ResultsFinal = sddata_bk.merge(Results, left_index=True, right_index=True)\n",
    "\n",
    "#ResultsFinal['%Error'] = round(((ResultsFinal['Scores_A']-ResultsFinal['Scores_P'])/ResultsFinal['Scores_A'])*100,3)\n",
    "\n",
    "# Display 10 records randomly\n",
    "\n",
    "ResultsFinal.sample(5)"
   ]
  },
  {
   "cell_type": "code",
   "execution_count": 18,
   "id": "f350134a",
   "metadata": {},
   "outputs": [
    {
     "name": "stdout",
     "output_type": "stream",
     "text": [
      "Predicted Percentage: 92.91%\n"
     ]
    }
   ],
   "source": [
    "import numpy as np\n",
    "import pandas as pd\n",
    "from sklearn.linear_model import LinearRegression\n",
    "\n",
    "# Sample data (replace with your dataset)\n",
    "data = {'StudyHours': [2.5,5.1,3.2,8.5, 3.5, 1.5, 9.2, 5.5 ,8.3 ,2.7, 7.7, 5.9,4.5 ,3.3,1.1,8.9, 2.5,1.9,6.1,7.4,2.7,4.8,3.8,6.9,7.8],\n",
    "        'Percentage': [21,47,27,75,30,20,88,60,81,25,85,62,41,42,17,95,30,24,67,69,30,54,35,76,86]}\n",
    "\n",
    "# Create a DataFrame\n",
    "df = pd.DataFrame(data)\n",
    "\n",
    "# Split the data into training and testing sets (you might have already done this)\n",
    "X = sddata['Hours'].values.reshape(-1, 1)\n",
    "y = sddata['Scores'].values\n",
    "\n",
    "# Create a linear regression model\n",
    "model = LinearRegression()\n",
    "\n",
    "# Train the model\n",
    "model.fit(X, y)\n",
    "\n",
    "# Predict the score for 9.25 hours of study\n",
    "hours_to_predict = np.array([[9.25]])  # Adjust the study hours here\n",
    "predicted_percentage = model.predict(hours_to_predict)\n",
    "print(f'Predicted Percentage: {predicted_percentage[0]:.2f}%')\n"
   ]
  },
  {
   "cell_type": "code",
   "execution_count": 20,
   "id": "817fcb41",
   "metadata": {},
   "outputs": [
    {
     "data": {
      "image/png": "[encoded data removed]",
      "text/plain": [
       "<Figure size 800x600 with 1 Axes>"
      ]
     },
     "metadata": {},
     "output_type": "display_data"
    },
    {
     "name": "stdout",
     "output_type": "stream",
     "text": [
      "Predicted Percentage: 92.91%\n"
     ]
    }
   ],
   "source": [
    "import matplotlib.pyplot as plt\n",
    "import numpy as np\n",
    "import pandas as pd\n",
    "from sklearn.linear_model import LinearRegression\n",
    "\n",
    "# Sample data (replace with your dataset)\n",
    "data = {'Hours': [2.5,5.1,3.2,8.5, 3.5, 1.5, 9.2, 5.5 ,8.3 ,2.7, 7.7, 5.9,4.5 ,3.3,1.1,8.9, 2.5,1.9,6.1,7.4,2.7,4.8,3.8,6.9,7.8],\n",
    "        'Scores': [21,47,27,75,30,20,88,60,81,25,85,62,41,42,17,95,30,24,67,69,30,54,35,76,86]}\n",
    "\n",
    "# Create a DataFrame\n",
    "sddata = pd.DataFrame(data)\n",
    "\n",
    "# Split the data into training and testing sets (you might have already done this)\n",
    "X = sddata['Hours'].values.reshape(-1, 1)\n",
    "y = sddata['Scores'].values\n",
    "\n",
    "# Create a linear regression model\n",
    "model = LinearRegression()\n",
    "\n",
    "# Train the model\n",
    "model.fit(X, y)\n",
    "\n",
    "# Predict the score for 9.25 hours of study\n",
    "hours_to_predict = np.array([[9.25]])  # Adjust the study hours here\n",
    "predicted_percentage = model.predict(hours_to_predict)[0]\n",
    "\n",
    "# Create a scatter plot\n",
    "plt.figure(figsize=(8, 6))\n",
    "plt.scatter(sddata['Hours'], sddata['Scores'], color='blue', label='Data Points')\n",
    "plt.plot(hours_to_predict, predicted_percentage, marker='o', color='red', label='Predicted')\n",
    "\n",
    "# Add labels and title\n",
    "plt.xlabel('Study Hours')\n",
    "plt.ylabel('Percentage')\n",
    "plt.title('Scatter Plot with Predicted Percentage')\n",
    "\n",
    "# Add grid lines (optional)\n",
    "plt.grid(True)\n",
    "\n",
    "# Show the legend (optional)\n",
    "plt.legend()\n",
    "\n",
    "# Display the plot\n",
    "plt.show()\n",
    "\n",
    "# Print the predicted percentage\n",
    "print(f'Predicted Percentage: {predicted_percentage:.2f}%')\n"
   ]
  },
  {
   "cell_type": "code",
   "execution_count": null,
   "id": "f056a20a",
   "metadata": {},
   "outputs": [],
   "source": []
  }
 ],
 "metadata": {
  "kernelspec": {
   "display_name": "Python 3 (ipykernel)",
   "language": "python",
   "name": "python3"
  },
  "language_info": {
   "codemirror_mode": {
    "name": "ipython",
    "version": 3
   },
   "file_extension": ".py",
   "mimetype": "text/x-python",
   "name": "python",
   "nbconvert_exporter": "python",
   "pygments_lexer": "ipython3",
   "version": "3.10.9"
  }
 },
 "nbformat": 4,
 "nbformat_minor": 5
}
